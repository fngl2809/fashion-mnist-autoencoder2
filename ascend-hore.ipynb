{
 "cells": [
  {
   "cell_type": "code",
   "execution_count": 1,
   "id": "6568c5cd",
   "metadata": {
    "_cell_guid": "b1076dfc-b9ad-4769-8c92-a6c4dae69d19",
    "_uuid": "8f2839f25d086af736a60e9eeb907d3b93b6e0e5",
    "execution": {
     "iopub.execute_input": "2025-07-02T05:06:16.385819Z",
     "iopub.status.busy": "2025-07-02T05:06:16.385619Z",
     "iopub.status.idle": "2025-07-02T05:06:19.292627Z",
     "shell.execute_reply": "2025-07-02T05:06:19.292044Z"
    },
    "papermill": {
     "duration": 2.913613,
     "end_time": "2025-07-02T05:06:19.294159",
     "exception": false,
     "start_time": "2025-07-02T05:06:16.380546",
     "status": "completed"
    },
    "tags": []
   },
   "outputs": [],
   "source": [
    "import pandas as pd\n",
    "import numpy as np\n",
    "from sklearn.linear_model import LinearRegression\n",
    "from sklearn.ensemble import RandomForestRegressor"
   ]
  },
  {
   "cell_type": "code",
   "execution_count": 2,
   "id": "7e6f9491",
   "metadata": {
    "execution": {
     "iopub.execute_input": "2025-07-02T05:06:19.303692Z",
     "iopub.status.busy": "2025-07-02T05:06:19.303172Z",
     "iopub.status.idle": "2025-07-02T05:06:19.435327Z",
     "shell.execute_reply": "2025-07-02T05:06:19.434567Z"
    },
    "papermill": {
     "duration": 0.138298,
     "end_time": "2025-07-02T05:06:19.436474",
     "exception": false,
     "start_time": "2025-07-02T05:06:19.298176",
     "status": "completed"
    },
    "tags": []
   },
   "outputs": [
    {
     "data": {
      "text/plain": [
       "(                     ID        date cluster_id  electricity_consumption  \\\n",
       " 0  cluster_1_2014-01-01  2014-01-01  cluster_1                  358.032   \n",
       " 1  cluster_2_2014-01-01  2014-01-01  cluster_2                  548.247   \n",
       " 2  cluster_3_2014-01-01  2014-01-01  cluster_3                  758.303   \n",
       " 3  cluster_4_2014-01-01  2014-01-01  cluster_4                 1072.077   \n",
       " 4  cluster_1_2014-01-02  2014-01-02  cluster_1                  386.908   \n",
       " \n",
       "    temperature_2m_max  temperature_2m_min  apparent_temperature_max  \\\n",
       " 0                10.8                 4.2                       5.5   \n",
       " 1                12.2                 4.3                       8.6   \n",
       " 2                12.9                -0.8                      10.1   \n",
       " 3                10.8                 4.7                       6.7   \n",
       " 4                10.7                 7.0                       6.6   \n",
       " \n",
       "    apparent_temperature_min  sunshine_duration  daylight_duration  \\\n",
       " 0                       0.4          53.003333       29787.533333   \n",
       " 1                      -0.4        8195.656667       30650.350000   \n",
       " 2                      -4.9       16305.260000       31547.686667   \n",
       " 3                       0.6        9224.803333       30769.220000   \n",
       " 4                       3.3       22372.000000       29850.226667   \n",
       " \n",
       "    wind_speed_10m_max  wind_gusts_10m_max  wind_direction_10m_dominant  \\\n",
       " 0                40.6                79.2                   186.000000   \n",
       " 1                36.0                81.7                   170.591118   \n",
       " 2                20.9                44.3                   159.467752   \n",
       " 3                34.7                82.8                   184.339753   \n",
       " 4                34.3                75.2                   210.333465   \n",
       " \n",
       "    shortwave_radiation_sum  et0_fao_evapotranspiration  \n",
       " 0                 1.176667                    0.483333  \n",
       " 1                 3.383333                    0.736667  \n",
       " 2                 3.880000                    0.716667  \n",
       " 3                 3.153333                    0.676667  \n",
       " 4                 3.640000                    0.780000  ,\n",
       "                      ID        date cluster_id  temperature_2m_max  \\\n",
       " 0  cluster_1_2022-01-01  2022-01-01  cluster_1                15.2   \n",
       " 1  cluster_2_2022-01-01  2022-01-01  cluster_2                15.9   \n",
       " 2  cluster_3_2022-01-01  2022-01-01  cluster_3                18.6   \n",
       " 3  cluster_4_2022-01-01  2022-01-01  cluster_4                13.3   \n",
       " 4  cluster_1_2022-01-02  2022-01-02  cluster_1                14.1   \n",
       " \n",
       "    temperature_2m_min  apparent_temperature_max  apparent_temperature_min  \\\n",
       " 0                 7.9                      14.2                       5.2   \n",
       " 1                 4.1                      15.3                       1.3   \n",
       " 2                 4.9                      18.8                       1.8   \n",
       " 3                 3.9                      11.9                       1.3   \n",
       " 4                 8.1                      11.2                       5.3   \n",
       " \n",
       "    sunshine_duration  daylight_duration  wind_speed_10m_max  \\\n",
       " 0       21902.986667       29784.506667                22.2   \n",
       " 1       23550.080000       30647.540000                22.7   \n",
       " 2       24179.643333       31545.103333                15.5   \n",
       " 3       23839.203333       30766.446667                16.1   \n",
       " 4       21018.193333       29847.110000                34.4   \n",
       " \n",
       "    wind_gusts_10m_max  wind_direction_10m_dominant  shortwave_radiation_sum  \\\n",
       " 0                37.8                   172.732245                 4.173333   \n",
       " 1                38.5                   163.972679                 5.146667   \n",
       " 2                26.3                   198.645137                 5.713333   \n",
       " 3                27.4                   183.517316                 4.200000   \n",
       " 4                59.4                   223.335840                 4.030000   \n",
       " \n",
       "    et0_fao_evapotranspiration  \n",
       " 0                    0.780000  \n",
       " 1                    0.730000  \n",
       " 2                    0.730000  \n",
       " 3                    0.486667  \n",
       " 4                    1.170000  )"
      ]
     },
     "execution_count": 2,
     "metadata": {},
     "output_type": "execute_result"
    }
   ],
   "source": [
    "# impor data\n",
    "train_df = pd.read_csv('/kaggle/input/seleksi-dsa-compfest-17/train.csv')\n",
    "test_df = pd.read_csv('/kaggle/input/seleksi-dsa-compfest-17/test.csv')\n",
    "\n",
    "train_df.head(), test_df.head()"
   ]
  },
  {
   "cell_type": "code",
   "execution_count": 3,
   "id": "b36475a5",
   "metadata": {
    "execution": {
     "iopub.execute_input": "2025-07-02T05:06:19.445198Z",
     "iopub.status.busy": "2025-07-02T05:06:19.444684Z",
     "iopub.status.idle": "2025-07-02T05:06:19.455572Z",
     "shell.execute_reply": "2025-07-02T05:06:19.455040Z"
    },
    "papermill": {
     "duration": 0.016256,
     "end_time": "2025-07-02T05:06:19.456663",
     "exception": false,
     "start_time": "2025-07-02T05:06:19.440407",
     "status": "completed"
    },
    "tags": []
   },
   "outputs": [],
   "source": [
    "X_train = train_df.drop(columns=['ID', 'cluster_id', 'electricity_consumption', 'date'])\n",
    "y_train = train_df['electricity_consumption']\n",
    "X_test = test_df.drop(columns=['ID', 'cluster_id', 'date'])"
   ]
  },
  {
   "cell_type": "code",
   "execution_count": 4,
   "id": "560a6507",
   "metadata": {
    "execution": {
     "iopub.execute_input": "2025-07-02T05:06:19.465372Z",
     "iopub.status.busy": "2025-07-02T05:06:19.464823Z",
     "iopub.status.idle": "2025-07-02T05:06:19.478155Z",
     "shell.execute_reply": "2025-07-02T05:06:19.477506Z"
    },
    "papermill": {
     "duration": 0.018758,
     "end_time": "2025-07-02T05:06:19.479264",
     "exception": false,
     "start_time": "2025-07-02T05:06:19.460506",
     "status": "completed"
    },
    "tags": []
   },
   "outputs": [
    {
     "data": {
      "text/plain": [
       "(   temperature_2m_max  temperature_2m_min  apparent_temperature_max  \\\n",
       " 0                10.8                 4.2                       5.5   \n",
       " 1                12.2                 4.3                       8.6   \n",
       " 2                12.9                -0.8                      10.1   \n",
       " 3                10.8                 4.7                       6.7   \n",
       " 4                10.7                 7.0                       6.6   \n",
       " \n",
       "    apparent_temperature_min  sunshine_duration  daylight_duration  \\\n",
       " 0                       0.4          53.003333       29787.533333   \n",
       " 1                      -0.4        8195.656667       30650.350000   \n",
       " 2                      -4.9       16305.260000       31547.686667   \n",
       " 3                       0.6        9224.803333       30769.220000   \n",
       " 4                       3.3       22372.000000       29850.226667   \n",
       " \n",
       "    wind_speed_10m_max  wind_gusts_10m_max  wind_direction_10m_dominant  \\\n",
       " 0                40.6                79.2                   186.000000   \n",
       " 1                36.0                81.7                   170.591118   \n",
       " 2                20.9                44.3                   159.467752   \n",
       " 3                34.7                82.8                   184.339753   \n",
       " 4                34.3                75.2                   210.333465   \n",
       " \n",
       "    shortwave_radiation_sum  et0_fao_evapotranspiration  \n",
       " 0                 1.176667                    0.483333  \n",
       " 1                 3.383333                    0.736667  \n",
       " 2                 3.880000                    0.716667  \n",
       " 3                 3.153333                    0.676667  \n",
       " 4                 3.640000                    0.780000  ,\n",
       "    temperature_2m_max  temperature_2m_min  apparent_temperature_max  \\\n",
       " 0                15.2                 7.9                      14.2   \n",
       " 1                15.9                 4.1                      15.3   \n",
       " 2                18.6                 4.9                      18.8   \n",
       " 3                13.3                 3.9                      11.9   \n",
       " 4                14.1                 8.1                      11.2   \n",
       " \n",
       "    apparent_temperature_min  sunshine_duration  daylight_duration  \\\n",
       " 0                       5.2       21902.986667       29784.506667   \n",
       " 1                       1.3       23550.080000       30647.540000   \n",
       " 2                       1.8       24179.643333       31545.103333   \n",
       " 3                       1.3       23839.203333       30766.446667   \n",
       " 4                       5.3       21018.193333       29847.110000   \n",
       " \n",
       "    wind_speed_10m_max  wind_gusts_10m_max  wind_direction_10m_dominant  \\\n",
       " 0                22.2                37.8                   172.732245   \n",
       " 1                22.7                38.5                   163.972679   \n",
       " 2                15.5                26.3                   198.645137   \n",
       " 3                16.1                27.4                   183.517316   \n",
       " 4                34.4                59.4                   223.335840   \n",
       " \n",
       "    shortwave_radiation_sum  et0_fao_evapotranspiration  \n",
       " 0                 4.173333                    0.780000  \n",
       " 1                 5.146667                    0.730000  \n",
       " 2                 5.713333                    0.730000  \n",
       " 3                 4.200000                    0.486667  \n",
       " 4                 4.030000                    1.170000  )"
      ]
     },
     "execution_count": 4,
     "metadata": {},
     "output_type": "execute_result"
    }
   ],
   "source": [
    "# ngapus kolom 'date', 'ID', dan 'cluster_id'\n",
    "train_features = train_df.drop(['ID', 'cluster_id', 'electricity_consumption', 'date'], axis=1)\n",
    "test_features = test_df.drop(['ID', 'cluster_id', 'date'], axis=1)\n",
    "\n",
    "# tampilin beberapa baris data untuk memastikan perubahan\n",
    "train_features.head(), test_features.head()"
   ]
  },
  {
   "cell_type": "code",
   "execution_count": 5,
   "id": "24dc5c0c",
   "metadata": {
    "execution": {
     "iopub.execute_input": "2025-07-02T05:06:19.487925Z",
     "iopub.status.busy": "2025-07-02T05:06:19.487740Z",
     "iopub.status.idle": "2025-07-02T05:06:19.490789Z",
     "shell.execute_reply": "2025-07-02T05:06:19.490286Z"
    },
    "papermill": {
     "duration": 0.008553,
     "end_time": "2025-07-02T05:06:19.491744",
     "exception": false,
     "start_time": "2025-07-02T05:06:19.483191",
     "status": "completed"
    },
    "tags": []
   },
   "outputs": [],
   "source": [
    "train_target = train_df['electricity_consumption']\n"
   ]
  },
  {
   "cell_type": "code",
   "execution_count": 6,
   "id": "be5517c4",
   "metadata": {
    "execution": {
     "iopub.execute_input": "2025-07-02T05:06:19.499700Z",
     "iopub.status.busy": "2025-07-02T05:06:19.499512Z",
     "iopub.status.idle": "2025-07-02T05:06:19.563931Z",
     "shell.execute_reply": "2025-07-02T05:06:19.563215Z"
    },
    "papermill": {
     "duration": 0.070398,
     "end_time": "2025-07-02T05:06:19.565808",
     "exception": false,
     "start_time": "2025-07-02T05:06:19.495410",
     "status": "completed"
    },
    "tags": []
   },
   "outputs": [],
   "source": [
    "#linear regression\n",
    "model_lr = LinearRegression()\n",
    "model_lr.fit(X_train, y_train)\n",
    "pred_lr = model_lr.predict(X_test)"
   ]
  },
  {
   "cell_type": "code",
   "execution_count": 7,
   "id": "52944890",
   "metadata": {
    "execution": {
     "iopub.execute_input": "2025-07-02T05:06:19.579729Z",
     "iopub.status.busy": "2025-07-02T05:06:19.579473Z",
     "iopub.status.idle": "2025-07-02T05:06:30.056646Z",
     "shell.execute_reply": "2025-07-02T05:06:30.055737Z"
    },
    "papermill": {
     "duration": 10.485691,
     "end_time": "2025-07-02T05:06:30.058116",
     "exception": false,
     "start_time": "2025-07-02T05:06:19.572425",
     "status": "completed"
    },
    "tags": []
   },
   "outputs": [],
   "source": [
    "#random forest\n",
    "model_rf = RandomForestRegressor(n_estimators=100, random_state=42)\n",
    "model_rf.fit(X_train, y_train)\n",
    "pred_rf = model_rf.predict(X_test)"
   ]
  },
  {
   "cell_type": "code",
   "execution_count": 8,
   "id": "f53dfec0",
   "metadata": {
    "execution": {
     "iopub.execute_input": "2025-07-02T05:06:30.067128Z",
     "iopub.status.busy": "2025-07-02T05:06:30.066889Z",
     "iopub.status.idle": "2025-07-02T05:06:30.070418Z",
     "shell.execute_reply": "2025-07-02T05:06:30.069754Z"
    },
    "papermill": {
     "duration": 0.009089,
     "end_time": "2025-07-02T05:06:30.071537",
     "exception": false,
     "start_time": "2025-07-02T05:06:30.062448",
     "status": "completed"
    },
    "tags": []
   },
   "outputs": [],
   "source": [
    "#combine\n",
    "pred_combined = (pred_lr + pred_rf) / 2"
   ]
  },
  {
   "cell_type": "code",
   "execution_count": 9,
   "id": "668ba249",
   "metadata": {
    "execution": {
     "iopub.execute_input": "2025-07-02T05:06:30.079588Z",
     "iopub.status.busy": "2025-07-02T05:06:30.079386Z",
     "iopub.status.idle": "2025-07-02T05:06:30.084089Z",
     "shell.execute_reply": "2025-07-02T05:06:30.083480Z"
    },
    "papermill": {
     "duration": 0.00977,
     "end_time": "2025-07-02T05:06:30.085031",
     "exception": false,
     "start_time": "2025-07-02T05:06:30.075261",
     "status": "completed"
    },
    "tags": []
   },
   "outputs": [
    {
     "name": "stdout",
     "output_type": "stream",
     "text": [
      "(1133, 14) (1133, 14) (1134, 14)\n"
     ]
    }
   ],
   "source": [
    "# bagi data test jd 3 bagian\n",
    "test_subset_1 = test_df.iloc[:1133]  # 1/3 pertama dari 3400\n",
    "test_subset_2 = test_df.iloc[1133:2266]  # 1/3 kedua\n",
    "test_subset_3 = test_df.iloc[2266:]  # 1/3 ketiga\n",
    "\n",
    "# tampilin jumlah baris utk tiap subset untuk pastiin pembagian yang tepat\n",
    "print(test_subset_1.shape, test_subset_2.shape, test_subset_3.shape)"
   ]
  },
  {
   "cell_type": "code",
   "execution_count": 10,
   "id": "6eeb085b",
   "metadata": {
    "execution": {
     "iopub.execute_input": "2025-07-02T05:06:30.093391Z",
     "iopub.status.busy": "2025-07-02T05:06:30.093219Z",
     "iopub.status.idle": "2025-07-02T05:06:30.194589Z",
     "shell.execute_reply": "2025-07-02T05:06:30.193695Z"
    },
    "papermill": {
     "duration": 0.106859,
     "end_time": "2025-07-02T05:06:30.195755",
     "exception": false,
     "start_time": "2025-07-02T05:06:30.088896",
     "status": "completed"
    },
    "tags": []
   },
   "outputs": [
    {
     "name": "stdout",
     "output_type": "stream",
     "text": [
      "Jumlah total prediksi: 3400\n"
     ]
    }
   ],
   "source": [
    "# Buat fitur untuk subset pertama\n",
    "test_features_1 = test_subset_1.drop(['ID', 'cluster_id', 'date'], axis=1)\n",
    "predictions_1 = model_rf.predict(test_features_1)\n",
    "\n",
    "# Buat fitur untuk subset kedua\n",
    "test_features_2 = test_subset_2.drop(['ID', 'cluster_id', 'date'], axis=1)\n",
    "predictions_2 = model_rf.predict(test_features_2)\n",
    "\n",
    "# Buat fitur untuk subset ketiga\n",
    "test_features_3 = test_subset_3.drop(['ID', 'cluster_id', 'date'], axis=1)\n",
    "predictions_3 = model_rf.predict(test_features_3)\n",
    "\n",
    "# Gabungkan semua prediksi\n",
    "predictions_all = np.concatenate([predictions_1, predictions_2, predictions_3])\n",
    "\n",
    "# Tampilkan jumlah prediksi\n",
    "print(f\"Jumlah total prediksi: {predictions_all.shape[0]}\")"
   ]
  },
  {
   "cell_type": "code",
   "execution_count": 11,
   "id": "6c4be4f8",
   "metadata": {
    "execution": {
     "iopub.execute_input": "2025-07-02T05:06:30.204785Z",
     "iopub.status.busy": "2025-07-02T05:06:30.204543Z",
     "iopub.status.idle": "2025-07-02T05:06:30.222802Z",
     "shell.execute_reply": "2025-07-02T05:06:30.222060Z"
    },
    "papermill": {
     "duration": 0.023878,
     "end_time": "2025-07-02T05:06:30.223916",
     "exception": false,
     "start_time": "2025-07-02T05:06:30.200038",
     "status": "completed"
    },
    "tags": []
   },
   "outputs": [],
   "source": [
    "submission = test_df[['ID']].copy()\n",
    "submission['electricity_consumption'] = pred_combined\n",
    "submission.to_csv('/kaggle/working/submission.csv', index=False)"
   ]
  },
  {
   "cell_type": "code",
   "execution_count": 12,
   "id": "cc805971",
   "metadata": {
    "execution": {
     "iopub.execute_input": "2025-07-02T05:06:30.232704Z",
     "iopub.status.busy": "2025-07-02T05:06:30.232298Z",
     "iopub.status.idle": "2025-07-02T05:06:30.237758Z",
     "shell.execute_reply": "2025-07-02T05:06:30.236828Z"
    },
    "papermill": {
     "duration": 0.011156,
     "end_time": "2025-07-02T05:06:30.239092",
     "exception": false,
     "start_time": "2025-07-02T05:06:30.227936",
     "status": "completed"
    },
    "tags": []
   },
   "outputs": [
    {
     "name": "stdout",
     "output_type": "stream",
     "text": [
      "                     ID  electricity_consumption\n",
      "0  cluster_1_2022-01-01               472.520235\n",
      "1  cluster_2_2022-01-01               679.596586\n",
      "2  cluster_3_2022-01-01               694.936246\n",
      "3  cluster_4_2022-01-01               790.514729\n",
      "4  cluster_1_2022-01-02               499.554957\n"
     ]
    }
   ],
   "source": [
    "print(submission.head())"
   ]
  },
  {
   "cell_type": "code",
   "execution_count": 13,
   "id": "b7de80dd",
   "metadata": {
    "execution": {
     "iopub.execute_input": "2025-07-02T05:06:30.248053Z",
     "iopub.status.busy": "2025-07-02T05:06:30.247851Z",
     "iopub.status.idle": "2025-07-02T05:06:30.322237Z",
     "shell.execute_reply": "2025-07-02T05:06:30.321433Z"
    },
    "papermill": {
     "duration": 0.080449,
     "end_time": "2025-07-02T05:06:30.323434",
     "exception": false,
     "start_time": "2025-07-02T05:06:30.242985",
     "status": "completed"
    },
    "tags": []
   },
   "outputs": [
    {
     "name": "stdout",
     "output_type": "stream",
     "text": [
      "['ID', 'date', 'cluster_id', 'electricity_consumption', 'temperature_2m_max', 'temperature_2m_min', 'apparent_temperature_max', 'apparent_temperature_min', 'sunshine_duration', 'daylight_duration', 'wind_speed_10m_max', 'wind_gusts_10m_max', 'wind_direction_10m_dominant', 'shortwave_radiation_sum', 'et0_fao_evapotranspiration']\n",
      "Index(['ID', 'date', 'cluster_id', 'electricity_consumption',\n",
      "       'temperature_2m_max', 'temperature_2m_min', 'apparent_temperature_max',\n",
      "       'apparent_temperature_min', 'sunshine_duration', 'daylight_duration',\n",
      "       'wind_speed_10m_max', 'wind_gusts_10m_max',\n",
      "       'wind_direction_10m_dominant', 'shortwave_radiation_sum',\n",
      "       'et0_fao_evapotranspiration'],\n",
      "      dtype='object')\n"
     ]
    }
   ],
   "source": [
    "# ==== [1] FEATURE ENGINEERING ====\n",
    "import pandas as pd\n",
    "from sklearn.preprocessing import StandardScaler, LabelEncoder\n",
    "\n",
    "# 1. Baca data\n",
    "df = pd.read_csv(\"/kaggle/input/seleksi-dsa-compfest-17/train.csv\")\n",
    "\n",
    "\n",
    "print(df.columns.tolist())\n",
    "\n",
    "\n",
    "# 2. Cek kolom yang tersedia (penting untuk melihat nama kolom target yang benar)\n",
    "print(df.columns)\n",
    "\n",
    "# 3. Ubah kolom 'date' jadi datetime\n",
    "df['date'] = pd.to_datetime(df['date'])\n",
    "\n",
    "# 4. Tambahkan fitur waktu baru\n",
    "df['dayofweek'] = df['date'].dt.dayofweek\n",
    "df['month'] = df['date'].dt.month\n",
    "df['quarter'] = df['date'].dt.quarter\n",
    "df['day'] = df['date'].dt.day\n",
    "df['is_weekend'] = df['dayofweek'].isin([5, 6]).astype(int)\n",
    "\n",
    "# 5. Misal target kamu bukan 'target', ubah jadi nama kolom yang benar (misalnya: 'jumlah')\n",
    "# Ganti 'jumlah' sesuai hasil print(df.columns)\n",
    "y = df['electricity_consumption']\n",
    "X = df.drop(columns=['ID', 'date', 'electricity_consumption'])\n",
    "\n",
    "# 2. Encode kolom kategorikal (cluster_id)\n",
    "le = LabelEncoder()\n",
    "X['cluster_id'] = le.fit_transform(X['cluster_id'])\n",
    "\n",
    "# ==== [2] DATA SCALING ====\n",
    "scaler = StandardScaler()\n",
    "X_scaled = scaler.fit_transform(X)\n",
    "\n",
    "\n",
    "# Train-validation split\n",
    "from sklearn.model_selection import train_test_split\n",
    "X_train, X_valid, y_train, y_valid = train_test_split(X_scaled, y, test_size=0.2, random_state=42)"
   ]
  },
  {
   "cell_type": "code",
   "execution_count": 14,
   "id": "d145b41f",
   "metadata": {
    "execution": {
     "iopub.execute_input": "2025-07-02T05:06:30.332806Z",
     "iopub.status.busy": "2025-07-02T05:06:30.332601Z",
     "iopub.status.idle": "2025-07-02T05:06:35.308773Z",
     "shell.execute_reply": "2025-07-02T05:06:35.307964Z"
    },
    "papermill": {
     "duration": 4.98226,
     "end_time": "2025-07-02T05:06:35.310135",
     "exception": false,
     "start_time": "2025-07-02T05:06:30.327875",
     "status": "completed"
    },
    "tags": []
   },
   "outputs": [],
   "source": [
    "# ==== [3] MODEL LAIN ====\n",
    "from sklearn.ensemble import GradientBoostingRegressor, VotingRegressor\n",
    "from xgboost import XGBRegressor\n",
    "from catboost import CatBoostRegressor\n",
    "from lightgbm import LGBMRegressor\n",
    "\n",
    "# Definisikan beberapa model\n",
    "model_gbr = GradientBoostingRegressor()\n",
    "model_xgb = XGBRegressor()\n",
    "model_cat = CatBoostRegressor(verbose=0)\n",
    "model_lgb = LGBMRegressor()"
   ]
  },
  {
   "cell_type": "code",
   "execution_count": 15,
   "id": "70adf339",
   "metadata": {
    "execution": {
     "iopub.execute_input": "2025-07-02T05:06:35.319919Z",
     "iopub.status.busy": "2025-07-02T05:06:35.319426Z",
     "iopub.status.idle": "2025-07-02T05:06:57.574184Z",
     "shell.execute_reply": "2025-07-02T05:06:57.573505Z"
    },
    "papermill": {
     "duration": 22.260627,
     "end_time": "2025-07-02T05:06:57.575298",
     "exception": false,
     "start_time": "2025-07-02T05:06:35.314671",
     "status": "completed"
    },
    "tags": []
   },
   "outputs": [
    {
     "name": "stdout",
     "output_type": "stream",
     "text": [
      "Fitting 3 folds for each of 36 candidates, totalling 108 fits\n",
      "Best Params: {'learning_rate': 0.1, 'max_depth': 5, 'n_estimators': 200, 'subsample': 0.8}\n",
      "Best RMSE: 29.859557707040413\n",
      "Validation RMSE: 29.32078985418248\n"
     ]
    }
   ],
   "source": [
    "from sklearn.model_selection import GridSearchCV\n",
    "from sklearn.metrics import make_scorer, mean_squared_error\n",
    "\n",
    "# ==== [4] HYPERPARAMETER TUNING ====\n",
    "xgb = XGBRegressor(objective='reg:squarederror', random_state=42)\n",
    "\n",
    "param_grid = {\n",
    "    'n_estimators': [100, 200],\n",
    "    'max_depth': [3, 5, 7],\n",
    "    'learning_rate': [0.05, 0.1, 0.2],\n",
    "    'subsample': [0.8, 1.0]\n",
    "}\n",
    "\n",
    "rmse = make_scorer(lambda y_true, y_pred: mean_squared_error(y_true, y_pred, squared=False), greater_is_better=False)\n",
    "\n",
    "grid_search = GridSearchCV(\n",
    "    estimator=xgb,\n",
    "    param_grid=param_grid,\n",
    "    scoring=rmse,\n",
    "    cv=3,\n",
    "    verbose=1,\n",
    "    n_jobs=-1\n",
    ")\n",
    "\n",
    "grid_search.fit(X_train, y_train)\n",
    "\n",
    "print(\"Best Params:\", grid_search.best_params_)\n",
    "print(\"Best RMSE:\", -grid_search.best_score_)\n",
    "\n",
    "best_model = grid_search.best_estimator_\n",
    "\n",
    "y_pred = best_model.predict(X_valid)\n",
    "rmse_valid = mean_squared_error(y_valid, y_pred, squared=False)\n",
    "print(\"Validation RMSE:\", rmse_valid)\n"
   ]
  },
  {
   "cell_type": "code",
   "execution_count": 16,
   "id": "d6babcb5",
   "metadata": {
    "execution": {
     "iopub.execute_input": "2025-07-02T05:06:57.586427Z",
     "iopub.status.busy": "2025-07-02T05:06:57.586229Z",
     "iopub.status.idle": "2025-07-02T05:07:00.926796Z",
     "shell.execute_reply": "2025-07-02T05:07:00.926028Z"
    },
    "papermill": {
     "duration": 3.347181,
     "end_time": "2025-07-02T05:07:00.927964",
     "exception": false,
     "start_time": "2025-07-02T05:06:57.580783",
     "status": "completed"
    },
    "tags": []
   },
   "outputs": [
    {
     "name": "stdout",
     "output_type": "stream",
     "text": [
      "[LightGBM] [Info] Auto-choosing row-wise multi-threading, the overhead of testing was 0.001379 seconds.\n",
      "You can set `force_row_wise=true` to remove the overhead.\n",
      "And if memory is not enough, you can set `force_col_wise=true`.\n",
      "[LightGBM] [Info] Total Bins 2846\n",
      "[LightGBM] [Info] Number of data points in the train set: 9350, number of used features: 17\n",
      "[LightGBM] [Info] Start training from score 641.053793\n"
     ]
    },
    {
     "data": {
      "text/html": [
       "<style>#sk-container-id-1 {color: black;background-color: white;}#sk-container-id-1 pre{padding: 0;}#sk-container-id-1 div.sk-toggleable {background-color: white;}#sk-container-id-1 label.sk-toggleable__label {cursor: pointer;display: block;width: 100%;margin-bottom: 0;padding: 0.3em;box-sizing: border-box;text-align: center;}#sk-container-id-1 label.sk-toggleable__label-arrow:before {content: \"▸\";float: left;margin-right: 0.25em;color: #696969;}#sk-container-id-1 label.sk-toggleable__label-arrow:hover:before {color: black;}#sk-container-id-1 div.sk-estimator:hover label.sk-toggleable__label-arrow:before {color: black;}#sk-container-id-1 div.sk-toggleable__content {max-height: 0;max-width: 0;overflow: hidden;text-align: left;background-color: #f0f8ff;}#sk-container-id-1 div.sk-toggleable__content pre {margin: 0.2em;color: black;border-radius: 0.25em;background-color: #f0f8ff;}#sk-container-id-1 input.sk-toggleable__control:checked~div.sk-toggleable__content {max-height: 200px;max-width: 100%;overflow: auto;}#sk-container-id-1 input.sk-toggleable__control:checked~label.sk-toggleable__label-arrow:before {content: \"▾\";}#sk-container-id-1 div.sk-estimator input.sk-toggleable__control:checked~label.sk-toggleable__label {background-color: #d4ebff;}#sk-container-id-1 div.sk-label input.sk-toggleable__control:checked~label.sk-toggleable__label {background-color: #d4ebff;}#sk-container-id-1 input.sk-hidden--visually {border: 0;clip: rect(1px 1px 1px 1px);clip: rect(1px, 1px, 1px, 1px);height: 1px;margin: -1px;overflow: hidden;padding: 0;position: absolute;width: 1px;}#sk-container-id-1 div.sk-estimator {font-family: monospace;background-color: #f0f8ff;border: 1px dotted black;border-radius: 0.25em;box-sizing: border-box;margin-bottom: 0.5em;}#sk-container-id-1 div.sk-estimator:hover {background-color: #d4ebff;}#sk-container-id-1 div.sk-parallel-item::after {content: \"\";width: 100%;border-bottom: 1px solid gray;flex-grow: 1;}#sk-container-id-1 div.sk-label:hover label.sk-toggleable__label {background-color: #d4ebff;}#sk-container-id-1 div.sk-serial::before {content: \"\";position: absolute;border-left: 1px solid gray;box-sizing: border-box;top: 0;bottom: 0;left: 50%;z-index: 0;}#sk-container-id-1 div.sk-serial {display: flex;flex-direction: column;align-items: center;background-color: white;padding-right: 0.2em;padding-left: 0.2em;position: relative;}#sk-container-id-1 div.sk-item {position: relative;z-index: 1;}#sk-container-id-1 div.sk-parallel {display: flex;align-items: stretch;justify-content: center;background-color: white;position: relative;}#sk-container-id-1 div.sk-item::before, #sk-container-id-1 div.sk-parallel-item::before {content: \"\";position: absolute;border-left: 1px solid gray;box-sizing: border-box;top: 0;bottom: 0;left: 50%;z-index: -1;}#sk-container-id-1 div.sk-parallel-item {display: flex;flex-direction: column;z-index: 1;position: relative;background-color: white;}#sk-container-id-1 div.sk-parallel-item:first-child::after {align-self: flex-end;width: 50%;}#sk-container-id-1 div.sk-parallel-item:last-child::after {align-self: flex-start;width: 50%;}#sk-container-id-1 div.sk-parallel-item:only-child::after {width: 0;}#sk-container-id-1 div.sk-dashed-wrapped {border: 1px dashed gray;margin: 0 0.4em 0.5em 0.4em;box-sizing: border-box;padding-bottom: 0.4em;background-color: white;}#sk-container-id-1 div.sk-label label {font-family: monospace;font-weight: bold;display: inline-block;line-height: 1.2em;}#sk-container-id-1 div.sk-label-container {text-align: center;}#sk-container-id-1 div.sk-container {/* jupyter's `normalize.less` sets `[hidden] { display: none; }` but bootstrap.min.css set `[hidden] { display: none !important; }` so we also need the `!important` here to be able to override the default hidden behavior on the sphinx rendered scikit-learn.org. See: https://github.com/scikit-learn/scikit-learn/issues/21755 */display: inline-block !important;position: relative;}#sk-container-id-1 div.sk-text-repr-fallback {display: none;}</style><div id=\"sk-container-id-1\" class=\"sk-top-container\"><div class=\"sk-text-repr-fallback\"><pre>VotingRegressor(estimators=[(&#x27;xgb&#x27;,\n",
       "                             XGBRegressor(base_score=None, booster=None,\n",
       "                                          callbacks=None,\n",
       "                                          colsample_bylevel=None,\n",
       "                                          colsample_bynode=None,\n",
       "                                          colsample_bytree=None, device=None,\n",
       "                                          early_stopping_rounds=None,\n",
       "                                          enable_categorical=False,\n",
       "                                          eval_metric=None, feature_types=None,\n",
       "                                          gamma=None, grow_policy=None,\n",
       "                                          importance_type=None,\n",
       "                                          interaction_constraints=None,\n",
       "                                          learning_rate...n=None,\n",
       "                                          max_cat_threshold=None,\n",
       "                                          max_cat_to_onehot=None,\n",
       "                                          max_delta_step=None, max_depth=None,\n",
       "                                          max_leaves=None,\n",
       "                                          min_child_weight=None, missing=nan,\n",
       "                                          monotone_constraints=None,\n",
       "                                          multi_strategy=None,\n",
       "                                          n_estimators=None, n_jobs=None,\n",
       "                                          num_parallel_tree=None,\n",
       "                                          random_state=None, ...)),\n",
       "                            (&#x27;cat&#x27;,\n",
       "                             &lt;catboost.core.CatBoostRegressor object at 0x7ec85d4bd290&gt;),\n",
       "                            (&#x27;lgb&#x27;, LGBMRegressor())])</pre><b>In a Jupyter environment, please rerun this cell to show the HTML representation or trust the notebook. <br />On GitHub, the HTML representation is unable to render, please try loading this page with nbviewer.org.</b></div><div class=\"sk-container\" hidden><div class=\"sk-item sk-dashed-wrapped\"><div class=\"sk-label-container\"><div class=\"sk-label sk-toggleable\"><input class=\"sk-toggleable__control sk-hidden--visually\" id=\"sk-estimator-id-1\" type=\"checkbox\" ><label for=\"sk-estimator-id-1\" class=\"sk-toggleable__label sk-toggleable__label-arrow\">VotingRegressor</label><div class=\"sk-toggleable__content\"><pre>VotingRegressor(estimators=[(&#x27;xgb&#x27;,\n",
       "                             XGBRegressor(base_score=None, booster=None,\n",
       "                                          callbacks=None,\n",
       "                                          colsample_bylevel=None,\n",
       "                                          colsample_bynode=None,\n",
       "                                          colsample_bytree=None, device=None,\n",
       "                                          early_stopping_rounds=None,\n",
       "                                          enable_categorical=False,\n",
       "                                          eval_metric=None, feature_types=None,\n",
       "                                          gamma=None, grow_policy=None,\n",
       "                                          importance_type=None,\n",
       "                                          interaction_constraints=None,\n",
       "                                          learning_rate...n=None,\n",
       "                                          max_cat_threshold=None,\n",
       "                                          max_cat_to_onehot=None,\n",
       "                                          max_delta_step=None, max_depth=None,\n",
       "                                          max_leaves=None,\n",
       "                                          min_child_weight=None, missing=nan,\n",
       "                                          monotone_constraints=None,\n",
       "                                          multi_strategy=None,\n",
       "                                          n_estimators=None, n_jobs=None,\n",
       "                                          num_parallel_tree=None,\n",
       "                                          random_state=None, ...)),\n",
       "                            (&#x27;cat&#x27;,\n",
       "                             &lt;catboost.core.CatBoostRegressor object at 0x7ec85d4bd290&gt;),\n",
       "                            (&#x27;lgb&#x27;, LGBMRegressor())])</pre></div></div></div><div class=\"sk-parallel\"><div class=\"sk-parallel-item\"><div class=\"sk-item\"><div class=\"sk-label-container\"><div class=\"sk-label sk-toggleable\"><label>xgb</label></div></div><div class=\"sk-serial\"><div class=\"sk-item\"><div class=\"sk-estimator sk-toggleable\"><input class=\"sk-toggleable__control sk-hidden--visually\" id=\"sk-estimator-id-2\" type=\"checkbox\" ><label for=\"sk-estimator-id-2\" class=\"sk-toggleable__label sk-toggleable__label-arrow\">XGBRegressor</label><div class=\"sk-toggleable__content\"><pre>XGBRegressor(base_score=None, booster=None, callbacks=None,\n",
       "             colsample_bylevel=None, colsample_bynode=None,\n",
       "             colsample_bytree=None, device=None, early_stopping_rounds=None,\n",
       "             enable_categorical=False, eval_metric=None, feature_types=None,\n",
       "             gamma=None, grow_policy=None, importance_type=None,\n",
       "             interaction_constraints=None, learning_rate=None, max_bin=None,\n",
       "             max_cat_threshold=None, max_cat_to_onehot=None,\n",
       "             max_delta_step=None, max_depth=None, max_leaves=None,\n",
       "             min_child_weight=None, missing=nan, monotone_constraints=None,\n",
       "             multi_strategy=None, n_estimators=None, n_jobs=None,\n",
       "             num_parallel_tree=None, random_state=None, ...)</pre></div></div></div></div></div></div><div class=\"sk-parallel-item\"><div class=\"sk-item\"><div class=\"sk-label-container\"><div class=\"sk-label sk-toggleable\"><label>cat</label></div></div><div class=\"sk-serial\"><div class=\"sk-item\"><div class=\"sk-estimator sk-toggleable\"><input class=\"sk-toggleable__control sk-hidden--visually\" id=\"sk-estimator-id-3\" type=\"checkbox\" ><label for=\"sk-estimator-id-3\" class=\"sk-toggleable__label sk-toggleable__label-arrow\">CatBoostRegressor</label><div class=\"sk-toggleable__content\"><pre>&lt;catboost.core.CatBoostRegressor object at 0x7ec85d4bd290&gt;</pre></div></div></div></div></div></div><div class=\"sk-parallel-item\"><div class=\"sk-item\"><div class=\"sk-label-container\"><div class=\"sk-label sk-toggleable\"><label>lgb</label></div></div><div class=\"sk-serial\"><div class=\"sk-item\"><div class=\"sk-estimator sk-toggleable\"><input class=\"sk-toggleable__control sk-hidden--visually\" id=\"sk-estimator-id-4\" type=\"checkbox\" ><label for=\"sk-estimator-id-4\" class=\"sk-toggleable__label sk-toggleable__label-arrow\">LGBMRegressor</label><div class=\"sk-toggleable__content\"><pre>LGBMRegressor()</pre></div></div></div></div></div></div></div></div></div></div>"
      ],
      "text/plain": [
       "VotingRegressor(estimators=[('xgb',\n",
       "                             XGBRegressor(base_score=None, booster=None,\n",
       "                                          callbacks=None,\n",
       "                                          colsample_bylevel=None,\n",
       "                                          colsample_bynode=None,\n",
       "                                          colsample_bytree=None, device=None,\n",
       "                                          early_stopping_rounds=None,\n",
       "                                          enable_categorical=False,\n",
       "                                          eval_metric=None, feature_types=None,\n",
       "                                          gamma=None, grow_policy=None,\n",
       "                                          importance_type=None,\n",
       "                                          interaction_constraints=None,\n",
       "                                          learning_rate...n=None,\n",
       "                                          max_cat_threshold=None,\n",
       "                                          max_cat_to_onehot=None,\n",
       "                                          max_delta_step=None, max_depth=None,\n",
       "                                          max_leaves=None,\n",
       "                                          min_child_weight=None, missing=nan,\n",
       "                                          monotone_constraints=None,\n",
       "                                          multi_strategy=None,\n",
       "                                          n_estimators=None, n_jobs=None,\n",
       "                                          num_parallel_tree=None,\n",
       "                                          random_state=None, ...)),\n",
       "                            ('cat',\n",
       "                             <catboost.core.CatBoostRegressor object at 0x7ec85d4bd290>),\n",
       "                            ('lgb', LGBMRegressor())])"
      ]
     },
     "execution_count": 16,
     "metadata": {},
     "output_type": "execute_result"
    }
   ],
   "source": [
    "# ==== [5] ENSEMBLING ====\n",
    "ensemble = VotingRegressor([\n",
    "    ('xgb', model_xgb),\n",
    "    ('cat', model_cat),\n",
    "    ('lgb', model_lgb)\n",
    "])\n",
    "ensemble.fit(X_train, y_train)"
   ]
  },
  {
   "cell_type": "code",
   "execution_count": 17,
   "id": "802fc475",
   "metadata": {
    "execution": {
     "iopub.execute_input": "2025-07-02T05:07:00.937830Z",
     "iopub.status.busy": "2025-07-02T05:07:00.937592Z",
     "iopub.status.idle": "2025-07-02T05:07:01.585948Z",
     "shell.execute_reply": "2025-07-02T05:07:01.585220Z"
    },
    "papermill": {
     "duration": 0.655054,
     "end_time": "2025-07-02T05:07:01.587648",
     "exception": false,
     "start_time": "2025-07-02T05:07:00.932594",
     "status": "completed"
    },
    "tags": []
   },
   "outputs": [
    {
     "data": {
      "image/png": "[encoded data removed]",
      "text/plain": [
       "<Figure size 1000x500 with 1 Axes>"
      ]
     },
     "metadata": {},
     "output_type": "display_data"
    }
   ],
   "source": [
    "import matplotlib.pyplot as plt\n",
    "import seaborn as sns\n",
    "\n",
    "plt.figure(figsize=(10, 5))\n",
    "sns.scatterplot(x=y_valid, y=y_pred)\n",
    "plt.xlabel(\"Actual Electricity Consumption\")\n",
    "plt.ylabel(\"Predicted Electricity Consumption\")\n",
    "plt.title(\"Predicted vs Actual Electricity Consumption (Validation Set)\")\n",
    "plt.grid(True)\n",
    "plt.show()"
   ]
  },
  {
   "cell_type": "code",
   "execution_count": 18,
   "id": "b153fa5e",
   "metadata": {
    "execution": {
     "iopub.execute_input": "2025-07-02T05:07:01.600169Z",
     "iopub.status.busy": "2025-07-02T05:07:01.599745Z",
     "iopub.status.idle": "2025-07-02T05:07:01.603590Z",
     "shell.execute_reply": "2025-07-02T05:07:01.602898Z"
    },
    "papermill": {
     "duration": 0.011072,
     "end_time": "2025-07-02T05:07:01.604655",
     "exception": false,
     "start_time": "2025-07-02T05:07:01.593583",
     "status": "completed"
    },
    "tags": []
   },
   "outputs": [],
   "source": [
    "\n",
    "import pandas as pd\n",
    "import numpy as np\n",
    "from sklearn.model_selection import train_test_split\n",
    "from sklearn.metrics import mean_squared_error\n",
    "from xgboost import XGBRegressor\n"
   ]
  },
  {
   "cell_type": "code",
   "execution_count": 19,
   "id": "4667d115",
   "metadata": {
    "execution": {
     "iopub.execute_input": "2025-07-02T05:07:01.616055Z",
     "iopub.status.busy": "2025-07-02T05:07:01.615863Z",
     "iopub.status.idle": "2025-07-02T05:07:01.669415Z",
     "shell.execute_reply": "2025-07-02T05:07:01.668862Z"
    },
    "papermill": {
     "duration": 0.060529,
     "end_time": "2025-07-02T05:07:01.670645",
     "exception": false,
     "start_time": "2025-07-02T05:07:01.610116",
     "status": "completed"
    },
    "tags": []
   },
   "outputs": [],
   "source": [
    "\n",
    "# Load data\n",
    "train_df = pd.read_csv('/kaggle/input/seleksi-dsa-compfest-17/train.csv')\n",
    "test_df = pd.read_csv('/kaggle/input/seleksi-dsa-compfest-17/test.csv')\n",
    "\n",
    "average_consumption_per_cluster = train_df.groupby('cluster_id')['electricity_consumption'].mean()\n",
    "\n",
    "# Feature dan target\n",
    "X = train_df.drop(columns=['ID', 'cluster_id', 'electricity_consumption', 'date'])\n",
    "y = train_df['electricity_consumption']\n",
    "X_test = test_df.drop(columns=['ID', 'cluster_id', 'date'])\n",
    "\n",
    "# Split untuk validasi\n",
    "X_train, X_val, y_train, y_val = train_test_split(X, y, test_size=0.2, random_state=42)\n"
   ]
  },
  {
   "cell_type": "code",
   "execution_count": 20,
   "id": "049bc3a9",
   "metadata": {
    "execution": {
     "iopub.execute_input": "2025-07-02T05:07:01.683141Z",
     "iopub.status.busy": "2025-07-02T05:07:01.682393Z",
     "iopub.status.idle": "2025-07-02T05:07:02.084869Z",
     "shell.execute_reply": "2025-07-02T05:07:02.083327Z"
    },
    "papermill": {
     "duration": 0.410209,
     "end_time": "2025-07-02T05:07:02.086337",
     "exception": false,
     "start_time": "2025-07-02T05:07:01.676128",
     "status": "completed"
    },
    "tags": []
   },
   "outputs": [
    {
     "name": "stdout",
     "output_type": "stream",
     "text": [
      "RMSE (Validation): 233.1961\n"
     ]
    }
   ],
   "source": [
    "\n",
    "# Model: XGBoost\n",
    "xgb = XGBRegressor(n_estimators=300, learning_rate=0.05, max_depth=5, random_state=42)\n",
    "xgb.fit(X_train, y_train)\n",
    "\n",
    "# Prediksi dan evaluasi\n",
    "val_preds = xgb.predict(X_val)\n",
    "rmse = np.sqrt(mean_squared_error(y_val, val_preds))\n",
    "print(f\"RMSE (Validation): {rmse:.4f}\")\n"
   ]
  },
  {
   "cell_type": "code",
   "execution_count": 21,
   "id": "59e001ad",
   "metadata": {
    "execution": {
     "iopub.execute_input": "2025-07-02T05:07:02.101943Z",
     "iopub.status.busy": "2025-07-02T05:07:02.101334Z",
     "iopub.status.idle": "2025-07-02T05:07:02.105044Z",
     "shell.execute_reply": "2025-07-02T05:07:02.104605Z"
    },
    "papermill": {
     "duration": 0.012021,
     "end_time": "2025-07-02T05:07:02.106089",
     "exception": false,
     "start_time": "2025-07-02T05:07:02.094068",
     "status": "completed"
    },
    "tags": []
   },
   "outputs": [],
   "source": [
    "\n",
    "import pandas as pd\n",
    "import numpy as np\n",
    "from xgboost import XGBRegressor\n",
    "from itertools import zip_longest"
   ]
  },
  {
   "cell_type": "code",
   "execution_count": 22,
   "id": "b1d26ef0",
   "metadata": {
    "execution": {
     "iopub.execute_input": "2025-07-02T05:07:02.118322Z",
     "iopub.status.busy": "2025-07-02T05:07:02.117666Z",
     "iopub.status.idle": "2025-07-02T05:07:04.916920Z",
     "shell.execute_reply": "2025-07-02T05:07:04.916076Z"
    },
    "papermill": {
     "duration": 2.806509,
     "end_time": "2025-07-02T05:07:04.918165",
     "exception": false,
     "start_time": "2025-07-02T05:07:02.111656",
     "status": "completed"
    },
    "tags": []
   },
   "outputs": [
    {
     "name": "stdout",
     "output_type": "stream",
     "text": [
      "Training cluster cluster_1...\n",
      "Training cluster cluster_2...\n",
      "Training cluster cluster_3...\n",
      "Training cluster cluster_4...\n",
      "✅ Selesai: submission_per_cluster_final_turunin4.csv\n"
     ]
    }
   ],
   "source": [
    "# Load data\n",
    "train_df = pd.read_csv('/kaggle/input/seleksi-dsa-compfest-17/train.csv')\n",
    "test_df = pd.read_csv('/kaggle/input/seleksi-dsa-compfest-17/test.csv')\n",
    "\n",
    "submission_by_cluster = {}\n",
    "\n",
    "for cluster in sorted(train_df['cluster_id'].unique()):\n",
    "    print(f\"Training cluster {cluster}...\")\n",
    "\n",
    "    # Filter per cluster\n",
    "    train_cluster = train_df[train_df['cluster_id'] == cluster].copy()\n",
    "    test_cluster = test_df[test_df['cluster_id'] == cluster].copy()\n",
    "\n",
    "    # Tambahan fitur bulan (optional, bisa bantu model)\n",
    "    train_cluster['month'] = pd.to_datetime(train_cluster['date']).dt.month\n",
    "    test_cluster['month'] = pd.to_datetime(test_cluster['date']).dt.month\n",
    "\n",
    "    # Fitur dan target\n",
    "    X_train = train_cluster.drop(columns=['ID', 'cluster_id', 'electricity_consumption', 'date'])\n",
    "    y_train = train_cluster['electricity_consumption']\n",
    "    X_test = test_cluster.drop(columns=['ID', 'cluster_id', 'date'])\n",
    "\n",
    "    # Model khusus cluster 4\n",
    "    if cluster == 4:\n",
    "        model = XGBRegressor(n_estimators=1000, learning_rate=0.02, max_depth=8,\n",
    "                             subsample=0.8, colsample_bytree=0.8, random_state=42)\n",
    "    else:\n",
    "        model = XGBRegressor(n_estimators=300, learning_rate=0.05, max_depth=5, random_state=42)\n",
    "\n",
    "    model.fit(X_train, y_train)\n",
    "\n",
    "    # Prediksi + penurunan tajam untuk cluster 4\n",
    "    preds = model.predict(X_test)\n",
    "    if cluster == 4:\n",
    "        preds *= 0.7  # lebih agresif ditekan\n",
    "    else:\n",
    "        preds *= 0.95\n",
    "\n",
    "    cluster_sub = pd.DataFrame({\n",
    "        'ID': test_cluster['ID'].values,\n",
    "        'electricity_consumption': preds\n",
    "    })\n",
    "\n",
    "    submission_by_cluster[cluster] = cluster_sub.reset_index(drop=True)\n",
    "\n",
    "# Gabungkan hasil selang-seling\n",
    "zipped = zip_longest(*[submission_by_cluster[c].itertuples(index=False) for c in sorted(submission_by_cluster.keys())])\n",
    "final_rows = [row for group in zipped for row in group if row is not None]\n",
    "\n",
    "final_submission = pd.DataFrame(final_rows, columns=['ID', 'electricity_consumption'])\n",
    "final_submission.to_csv('submission_per_cluster_final_turunin4.csv', index=False)\n",
    "print(\"✅ Selesai: submission_per_cluster_final_turunin4.csv\")\n"
   ]
  },
  {
   "cell_type": "code",
   "execution_count": 23,
   "id": "8d027610",
   "metadata": {
    "execution": {
     "iopub.execute_input": "2025-07-02T05:07:04.931066Z",
     "iopub.status.busy": "2025-07-02T05:07:04.930833Z",
     "iopub.status.idle": "2025-07-02T05:07:06.286304Z",
     "shell.execute_reply": "2025-07-02T05:07:06.285411Z"
    },
    "papermill": {
     "duration": 1.363213,
     "end_time": "2025-07-02T05:07:06.287482",
     "exception": false,
     "start_time": "2025-07-02T05:07:04.924269",
     "status": "completed"
    },
    "tags": []
   },
   "outputs": [
    {
     "name": "stdout",
     "output_type": "stream",
     "text": [
      "Rata-rata Konsumsi Listrik per Klaster:\n",
      "cluster_id\n",
      "cluster_1     340.734297\n",
      "cluster_2     503.367172\n",
      "cluster_3     706.762751\n",
      "cluster_4    1018.389092\n",
      "Name: electricity_consumption, dtype: float64\n",
      "Training cluster cluster_1...\n",
      "Training cluster cluster_2...\n",
      "Training cluster cluster_3...\n",
      "Training cluster cluster_4...\n",
      "✅ Selesai: submission_per_cluster_final_turunin4.csv\n"
     ]
    }
   ],
   "source": [
    "import pandas as pd\n",
    "import numpy as np\n",
    "from sklearn.linear_model import LinearRegression\n",
    "from sklearn.ensemble import RandomForestRegressor\n",
    "# Jangan lupa import XGBRegressor jika Anda menggunakannya\n",
    "from xgboost import XGBRegressor # tambahkan ini jika belum ada\n",
    "from itertools import zip_longest\n",
    "\n",
    "# Load data\n",
    "train_df = pd.read_csv('/kaggle/input/seleksi-dsa-compfest-17/train.csv')\n",
    "test_df = pd.read_csv('/kaggle/input/seleksi-dsa-compfest-17/test.csv')\n",
    "\n",
    "# --- TAMBAHKAN KODE INI UNTUK MENJAWAB NO. 2 ---\n",
    "# Hitung rata-rata konsumsi listrik per cluster dari data training\n",
    "average_consumption_per_cluster = train_df.groupby('cluster_id')['electricity_consumption'].mean()\n",
    "print(\"Rata-rata Konsumsi Listrik per Klaster:\")\n",
    "print(average_consumption_per_cluster)\n",
    "\n",
    "# Jika ingin melihat rasio perbandingan (misal, relatif terhadap klaster 0 atau klaster dengan rata-rata terendah)\n",
    "# Pilih klaster referensi, contoh klaster dengan rata-rata terendah\n",
    "# min_avg = average_consumption_per_cluster.min()\n",
    "# if min_avg != 0:\n",
    "#     ratio_vs_min = average_consumption_per_cluster / min_avg\n",
    "#     print(\"\\nRasio Konsumsi Listrik (dibandingkan dengan klaster terendah):\")\n",
    "#     print(ratio_vs_min)\n",
    "# else:\n",
    "#     print(\"\\nTidak dapat menghitung rasio relatif karena rata-rata terendah adalah nol.\")\n",
    "# --------------------------------------------------\n",
    "\n",
    "submission_by_cluster = {}\n",
    "\n",
    "for cluster in sorted(train_df['cluster_id'].unique()):\n",
    "    print(f\"Training cluster {cluster}...\")\n",
    "\n",
    "    # Filter per cluster\n",
    "    train_cluster = train_df[train_df['cluster_id'] == cluster].copy()\n",
    "    test_cluster = test_df[test_df['cluster_id'] == cluster].copy()\n",
    "\n",
    "    # Tambahan fitur bulan (optional, bisa bantu model)\n",
    "    train_cluster['month'] = pd.to_datetime(train_cluster['date']).dt.month\n",
    "    test_cluster['month'] = pd.to_datetime(test_cluster['date']).dt.month\n",
    "\n",
    "    # Fitur dan target\n",
    "    X_train = train_cluster.drop(columns=['ID', 'cluster_id', 'electricity_consumption', 'date'])\n",
    "    y_train = train_cluster['electricity_consumption']\n",
    "    X_test = test_cluster.drop(columns=['ID', 'cluster_id', 'date'])\n",
    "\n",
    "    # Model khusus cluster 4\n",
    "    if cluster == 4:\n",
    "        model = XGBRegressor(n_estimators=1000, learning_rate=0.02, max_depth=8,\n",
    "                             subsample=0.8, colsample_bytree=0.8, random_state=42)\n",
    "    else:\n",
    "        model = XGBRegressor(n_estimators=300, learning_rate=0.05, max_depth=5, random_state=42)\n",
    "\n",
    "    model.fit(X_train, y_train)\n",
    "\n",
    "    # Prediksi + penurunan tajam untuk cluster 4\n",
    "    preds = model.predict(X_test)\n",
    "    if cluster == 4:\n",
    "        preds *= 0.7  # lebih agresif ditekan\n",
    "    else:\n",
    "        preds *= 0.95\n",
    "\n",
    "    cluster_sub = pd.DataFrame({\n",
    "        'ID': test_cluster['ID'].values,\n",
    "        'electricity_consumption': preds\n",
    "    })\n",
    "\n",
    "    submission_by_cluster[cluster] = cluster_sub.reset_index(drop=True)\n",
    "\n",
    "# Gabungkan hasil selang-seling\n",
    "zipped = zip_longest(*[submission_by_cluster[c].itertuples(index=False) for c in sorted(submission_by_cluster.keys())])\n",
    "final_rows = [row for group in zipped for row in group if row is not None]\n",
    "\n",
    "final_submission = pd.DataFrame(final_rows, columns=['ID', 'electricity_consumption'])\n",
    "final_submission.to_csv('submission_per_cluster_final_turunin4.csv', index=False)\n",
    "print(\"✅ Selesai: submission_per_cluster_final_turunin4.csv\")"
   ]
  },
  {
   "cell_type": "code",
   "execution_count": 24,
   "id": "725c8900",
   "metadata": {
    "execution": {
     "iopub.execute_input": "2025-07-02T05:07:06.300611Z",
     "iopub.status.busy": "2025-07-02T05:07:06.299889Z",
     "iopub.status.idle": "2025-07-02T05:07:06.338907Z",
     "shell.execute_reply": "2025-07-02T05:07:06.337979Z"
    },
    "papermill": {
     "duration": 0.046472,
     "end_time": "2025-07-02T05:07:06.340043",
     "exception": false,
     "start_time": "2025-07-02T05:07:06.293571",
     "status": "completed"
    },
    "tags": []
   },
   "outputs": [
    {
     "name": "stdout",
     "output_type": "stream",
     "text": [
      "Rata-rata Konsumsi Listrik per Cluster (dari SELURUH dataset train.csv):\n",
      "cluster_id\n",
      "cluster_1     340.734297\n",
      "cluster_2     503.367172\n",
      "cluster_3     706.762751\n",
      "cluster_4    1018.389092\n",
      "Name: electricity_consumption, dtype: float64\n",
      "\n",
      "Rasio Perbandingan Rata-rata Konsumsi Listrik (dari SELURUH dataset, relatif terhadap cluster terendah):\n",
      "cluster_id\n",
      "cluster_1    1.000000\n",
      "cluster_2    1.477301\n",
      "cluster_3    2.074234\n",
      "cluster_4    2.988807\n",
      "Name: electricity_consumption, dtype: float64\n"
     ]
    }
   ],
   "source": [
    "import pandas as pd # Pastikan baris ini tidak ada indentasi di depannya\n",
    "import numpy as np   # Hapus spasi/tab di depan baris ini\n",
    "\n",
    "# --- PENTING: Pastikan PATH FILE ini BENAR di lingkungan Anda (misal Kaggle) ---\n",
    "# Jika Anda menjalankan ini di Kaggle Notebook, path ini kemungkinan besar sudah benar.\n",
    "# Jika di lokal, ganti dengan path file train.csv Anda yang sebenarnya.\n",
    "train_df = pd.read_csv('/kaggle/input/seleksi-dsa-compfest-17/train.csv')\n",
    "\n",
    "# Membersihkan nama kolom (sesuai praktik sebelumnya)\n",
    "train_df.columns = train_df.columns.str.strip().str.lower()\n",
    "\n",
    "# Menghitung rata-rata konsumsi listrik per cluster_id dari seluruh dataset\n",
    "average_consumption_per_cluster_full = train_df.groupby('cluster_id')['electricity_consumption'].mean().sort_values()\n",
    "\n",
    "print(\"Rata-rata Konsumsi Listrik per Cluster (dari SELURUH dataset train.csv):\")\n",
    "print(average_consumption_per_cluster_full)\n",
    "\n",
    "# Menghitung rasio perbandingan relatif terhadap cluster dengan konsumsi terendah\n",
    "min_consumption_full = average_consumption_per_cluster_full.min()\n",
    "ratios_full = average_consumption_per_cluster_full / min_consumption_full\n",
    "\n",
    "print(\"\\nRasio Perbandingan Rata-rata Konsumsi Listrik (dari SELURUH dataset, relatif terhadap cluster terendah):\")\n",
    "print(ratios_full)"
   ]
  }
 ],
 "metadata": {
  "kaggle": {
   "accelerator": "gpu",
   "dataSources": [
    {
     "databundleVersionId": 12603346,
     "sourceId": 104719,
     "sourceType": "competition"
    }
   ],
   "dockerImageVersionId": 31040,
   "isGpuEnabled": true,
   "isInternetEnabled": false,
   "language": "python",
   "sourceType": "notebook"
  },
  "kernelspec": {
   "display_name": "Python 3",
   "language": "python",
   "name": "python3"
  },
  "language_info": {
   "codemirror_mode": {
    "name": "ipython",
    "version": 3
   },
   "file_extension": ".py",
   "mimetype": "text/x-python",
   "name": "python",
   "nbconvert_exporter": "python",
   "pygments_lexer": "ipython3",
   "version": "3.11.11"
  },
  "papermill": {
   "default_parameters": {},
   "duration": 56.62188,
   "end_time": "2025-07-02T05:07:08.963594",
   "environment_variables": {},
   "exception": null,
   "input_path": "__notebook__.ipynb",
   "output_path": "__notebook__.ipynb",
   "parameters": {},
   "start_time": "2025-07-02T05:06:12.341714",
   "version": "2.6.0"
  }
 },
 "nbformat": 4,
 "nbformat_minor": 5
}
